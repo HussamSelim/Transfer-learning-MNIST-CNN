{
  "nbformat": 4,
  "nbformat_minor": 0,
  "metadata": {
    "colab": {
      "name": "Transfer_learning on MNIST dataset",
      "provenance": [],
      "authorship_tag": "ABX9TyOwx3SkX6tF6rmX1gOTLaIG",
      "include_colab_link": true
    },
    "kernelspec": {
      "name": "python3",
      "display_name": "Python 3"
    },
    "language_info": {
      "name": "python"
    },
    "accelerator": "GPU"
  },
  "cells": [
    {
      "cell_type": "markdown",
      "metadata": {
        "id": "view-in-github",
        "colab_type": "text"
      },
      "source": [
        "<a href=\"https://colab.research.google.com/github/HussamSelim/Transfer-learning-MNIST-CNN/blob/main/Transfer_learning_on_MNIST_dataset.ipynb\" target=\"_parent\"><img src=\"https://colab.research.google.com/assets/colab-badge.svg\" alt=\"Open In Colab\"/></a>"
      ]
    },
    {
      "cell_type": "code",
      "metadata": {
        "id": "-hILwCITVJtV"
      },
      "source": [
        "import tensorflow as tf\n",
        "from tensorflow.keras.layers import Dense, Conv2D, Flatten, MaxPooling2D,Dropout,Activation\n",
        "from tensorflow.keras.models import Sequential\n",
        "from tensorflow.keras.datasets import mnist\n",
        "from tensorflow.keras import backend as k"
      ],
      "execution_count": 22,
      "outputs": []
    },
    {
      "cell_type": "code",
      "metadata": {
        "id": "zdrMGCjHYba5"
      },
      "source": [
        "num_classes=5\n",
        "pool_size=2\n",
        "kernel_size=3\n",
        "epochs=5"
      ],
      "execution_count": 23,
      "outputs": []
    },
    {
      "cell_type": "code",
      "metadata": {
        "id": "G4H69_-mb5HK"
      },
      "source": [
        "if k.image_data_format=='channels_first':\n",
        "  input_shape=(1,28,28)\n",
        "else:\n",
        "  input_shape=(28,28,1)"
      ],
      "execution_count": 24,
      "outputs": []
    },
    {
      "cell_type": "code",
      "metadata": {
        "id": "3KGjD1xscEp2"
      },
      "source": [
        "def model_train(model,train,test,num_classes):\n",
        "  x_train=train[0].reshape((train[0].shape[0],)+input_shape)\n",
        "  x_test=test[0].reshape((test[0].shape[0],)+input_shape)\n",
        "\n",
        "  x_train=x_train.astype('float32')\n",
        "  x_test=x_test.astype('float32')\n",
        "\n",
        "  x_train /= 255\n",
        "  x_test /= 255\n",
        "\n",
        "  # convert class vectors to binary class matrices\n",
        "  y_train=tf.keras.utils.to_categorical(train[1],num_classes)\n",
        "  y_test=tf.keras.utils.to_categorical(test[1],num_classes)\n",
        "\n",
        "  model.compile(loss='categorical_crossentropy',metrics=['accuracy'],optimizer='adadelta')\n",
        "\n",
        "  model.fit(x_train,y_train,\n",
        "            epochs=4,\n",
        "            verbose=1,\n",
        "            validation_data=(x_test,y_test)\n",
        "            )\n",
        "  \n",
        "  score=model.evaluate(x_test,y_test,verbose=0)\n",
        "\n",
        "  \n",
        "\n",
        "\n"
      ],
      "execution_count": 25,
      "outputs": []
    },
    {
      "cell_type": "code",
      "metadata": {
        "id": "fLsEhnGmjgg7"
      },
      "source": [
        "(x_train,y_train),(x_test,y_test)=mnist.load_data()\n",
        "\n",
        "x_train_lt5=x_train[y_train<5]\n",
        "y_train_lt5=y_train[y_train<5]\n",
        "x_test_lt5 = x_test[y_test < 5]\n",
        "y_test_lt5 = y_test[y_test < 5]\n",
        "\n",
        "\n",
        "x_train_gte5=x_train[y_train>=5]\n",
        "y_train_gte5=y_train[y_train>=5] -5\n",
        "x_test_gte5 = x_test[y_test >= 5]\n",
        "y_test_gte5 = y_test[y_test >= 5] -5"
      ],
      "execution_count": 26,
      "outputs": []
    },
    {
      "cell_type": "code",
      "metadata": {
        "id": "prjGFBZbkqfL"
      },
      "source": [
        "feature_layers=[\n",
        "                \n",
        "                Conv2D(32,kernel_size,input_shape=input_shape),\n",
        "                Activation('relu'),\n",
        "                Conv2D(32,kernel_size),\n",
        "                Activation('relu'),\n",
        "                MaxPooling2D(pool_size=pool_size),\n",
        "                Dropout(0.25),\n",
        "                Flatten()\n",
        "]"
      ],
      "execution_count": 27,
      "outputs": []
    },
    {
      "cell_type": "code",
      "metadata": {
        "id": "tdtK-Y4iqmGe"
      },
      "source": [
        "classification_layer=[\n",
        "                      \n",
        "                      Dense(128),\n",
        "                      Activation('relu'),\n",
        "                      Dropout(0.4),\n",
        "                      Dense(num_classes),\n",
        "                      Activation('softmax')\n",
        "\n",
        "]"
      ],
      "execution_count": 28,
      "outputs": []
    },
    {
      "cell_type": "code",
      "metadata": {
        "id": "yj5wcxZlrb37"
      },
      "source": [
        "model=Sequential(feature_layers+classification_layer)"
      ],
      "execution_count": 29,
      "outputs": []
    },
    {
      "cell_type": "code",
      "metadata": {
        "colab": {
          "base_uri": "https://localhost:8080/"
        },
        "id": "FdyXUjmtrj08",
        "outputId": "fed1bc91-0f0b-47ee-9bd0-7bbd33884193"
      },
      "source": [
        "model.summary()"
      ],
      "execution_count": 30,
      "outputs": [
        {
          "output_type": "stream",
          "name": "stdout",
          "text": [
            "Model: \"sequential_2\"\n",
            "_________________________________________________________________\n",
            "Layer (type)                 Output Shape              Param #   \n",
            "=================================================================\n",
            "conv2d_4 (Conv2D)            (None, 26, 26, 32)        320       \n",
            "_________________________________________________________________\n",
            "activation_8 (Activation)    (None, 26, 26, 32)        0         \n",
            "_________________________________________________________________\n",
            "conv2d_5 (Conv2D)            (None, 24, 24, 32)        9248      \n",
            "_________________________________________________________________\n",
            "activation_9 (Activation)    (None, 24, 24, 32)        0         \n",
            "_________________________________________________________________\n",
            "max_pooling2d_2 (MaxPooling2 (None, 12, 12, 32)        0         \n",
            "_________________________________________________________________\n",
            "dropout_4 (Dropout)          (None, 12, 12, 32)        0         \n",
            "_________________________________________________________________\n",
            "flatten_2 (Flatten)          (None, 4608)              0         \n",
            "_________________________________________________________________\n",
            "dense_4 (Dense)              (None, 128)               589952    \n",
            "_________________________________________________________________\n",
            "activation_10 (Activation)   (None, 128)               0         \n",
            "_________________________________________________________________\n",
            "dropout_5 (Dropout)          (None, 128)               0         \n",
            "_________________________________________________________________\n",
            "dense_5 (Dense)              (None, 5)                 645       \n",
            "_________________________________________________________________\n",
            "activation_11 (Activation)   (None, 5)                 0         \n",
            "=================================================================\n",
            "Total params: 600,165\n",
            "Trainable params: 600,165\n",
            "Non-trainable params: 0\n",
            "_________________________________________________________________\n"
          ]
        }
      ]
    },
    {
      "cell_type": "code",
      "metadata": {
        "colab": {
          "base_uri": "https://localhost:8080/"
        },
        "id": "RJZ_MjFYrkaD",
        "outputId": "a17f958b-c50c-4222-f29b-08fe56090661"
      },
      "source": [
        "model_train(model,(x_train_lt5,y_train_lt5),(x_test_lt5,y_test_lt5),num_classes)"
      ],
      "execution_count": 31,
      "outputs": [
        {
          "output_type": "stream",
          "name": "stdout",
          "text": [
            "Epoch 1/4\n",
            "957/957 [==============================] - 9s 9ms/step - loss: 1.5569 - accuracy: 0.3372 - val_loss: 1.4900 - val_accuracy: 0.6754\n",
            "Epoch 2/4\n",
            "957/957 [==============================] - 8s 8ms/step - loss: 1.4325 - accuracy: 0.6264 - val_loss: 1.3301 - val_accuracy: 0.8716\n",
            "Epoch 3/4\n",
            "957/957 [==============================] - 8s 8ms/step - loss: 1.2575 - accuracy: 0.7827 - val_loss: 1.1103 - val_accuracy: 0.9033\n",
            "Epoch 4/4\n",
            "957/957 [==============================] - 8s 8ms/step - loss: 1.0339 - accuracy: 0.8368 - val_loss: 0.8492 - val_accuracy: 0.9185\n"
          ]
        }
      ]
    },
    {
      "cell_type": "code",
      "metadata": {
        "id": "JMNWAFG3sSqM"
      },
      "source": [
        "# Freeze only the feature layers\n",
        "for l in feature_layers:\n",
        "    l.trainable = False"
      ],
      "execution_count": 32,
      "outputs": []
    },
    {
      "cell_type": "code",
      "metadata": {
        "colab": {
          "base_uri": "https://localhost:8080/"
        },
        "id": "nmEcAEXOtut3",
        "outputId": "52550bcf-a05e-4399-8224-a77a8a216762"
      },
      "source": [
        "model_train(model,(x_train_gte5,y_train_gte5),(x_test_gte5,y_test_gte5),num_classes)"
      ],
      "execution_count": 33,
      "outputs": [
        {
          "output_type": "stream",
          "name": "stdout",
          "text": [
            "Epoch 1/4\n",
            "919/919 [==============================] - 6s 6ms/step - loss: 1.5508 - accuracy: 0.3331 - val_loss: 1.4234 - val_accuracy: 0.4211\n",
            "Epoch 2/4\n",
            "919/919 [==============================] - 5s 5ms/step - loss: 1.3734 - accuracy: 0.4571 - val_loss: 1.2544 - val_accuracy: 0.5894\n",
            "Epoch 3/4\n",
            "919/919 [==============================] - 5s 5ms/step - loss: 1.2305 - accuracy: 0.5784 - val_loss: 1.1114 - val_accuracy: 0.7079\n",
            "Epoch 4/4\n",
            "919/919 [==============================] - 5s 6ms/step - loss: 1.1019 - accuracy: 0.6759 - val_loss: 0.9905 - val_accuracy: 0.7760\n"
          ]
        }
      ]
    },
    {
      "cell_type": "code",
      "metadata": {
        "id": "v9rOtdzdt5sv"
      },
      "source": [
        ""
      ],
      "execution_count": null,
      "outputs": []
    }
  ]
}